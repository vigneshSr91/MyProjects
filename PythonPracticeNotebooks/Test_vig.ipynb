{
 "metadata": {
  "language_info": {
   "codemirror_mode": {
    "name": "ipython",
    "version": 3
   },
   "file_extension": ".py",
   "mimetype": "text/x-python",
   "name": "python",
   "nbconvert_exporter": "python",
   "pygments_lexer": "ipython3",
   "version": "3.8.5-final"
  },
  "orig_nbformat": 2,
  "kernelspec": {
   "name": "python385jvsc74a57bd0adb4ca985ed9a3cb7f38b00661ba9f6c8f4ea72e7212f13ee19c80eee02589bd",
   "display_name": "Python 3.8.5 64-bit (conda)"
  }
 },
 "nbformat": 4,
 "nbformat_minor": 2,
 "cells": [
  {
   "cell_type": "code",
   "execution_count": 2,
   "metadata": {},
   "outputs": [],
   "source": [
    "import pandas as pd\n",
    "import numpy as np"
   ]
  },
  {
   "cell_type": "code",
   "execution_count": 8,
   "metadata": {},
   "outputs": [
    {
     "output_type": "stream",
     "name": "stdout",
     "text": [
      "[[799404]\n [760195]\n [398381]\n ...\n [432393]\n [116539]\n [472019]]\n"
     ]
    }
   ],
   "source": [
    "random_numbers = np.random.randint(low=0,high=1000000,size=(1000000,1))\n",
    "print(random_numbers)"
   ]
  },
  {
   "cell_type": "code",
   "execution_count": 9,
   "metadata": {},
   "outputs": [
    {
     "output_type": "execute_result",
     "data": {
      "text/plain": [
       "   Numbers\n",
       "0   799404\n",
       "1   760195\n",
       "2   398381\n",
       "3   394714\n",
       "4   697961"
      ],
      "text/html": "<div>\n<style scoped>\n    .dataframe tbody tr th:only-of-type {\n        vertical-align: middle;\n    }\n\n    .dataframe tbody tr th {\n        vertical-align: top;\n    }\n\n    .dataframe thead th {\n        text-align: right;\n    }\n</style>\n<table border=\"1\" class=\"dataframe\">\n  <thead>\n    <tr style=\"text-align: right;\">\n      <th></th>\n      <th>Numbers</th>\n    </tr>\n  </thead>\n  <tbody>\n    <tr>\n      <th>0</th>\n      <td>799404</td>\n    </tr>\n    <tr>\n      <th>1</th>\n      <td>760195</td>\n    </tr>\n    <tr>\n      <th>2</th>\n      <td>398381</td>\n    </tr>\n    <tr>\n      <th>3</th>\n      <td>394714</td>\n    </tr>\n    <tr>\n      <th>4</th>\n      <td>697961</td>\n    </tr>\n  </tbody>\n</table>\n</div>"
     },
     "metadata": {},
     "execution_count": 9
    }
   ],
   "source": [
    "df = pd.DataFrame(data=random_numbers,columns=[\"Numbers\"])\n",
    "df.head()"
   ]
  },
  {
   "cell_type": "code",
   "execution_count": 16,
   "metadata": {},
   "outputs": [
    {
     "output_type": "stream",
     "name": "stdout",
     "text": [
      "500273394284\n"
     ]
    }
   ],
   "source": [
    "number_list = random_numbers.tolist()\n",
    "# Calculate Mean\n",
    "total = 0\n",
    "for i in number_list:\n",
    "    total += i[0]\n",
    "print(total)"
   ]
  },
  {
   "cell_type": "code",
   "execution_count": 21,
   "metadata": {},
   "outputs": [
    {
     "output_type": "stream",
     "name": "stdout",
     "text": [
      "500273.394284\n"
     ]
    }
   ],
   "source": [
    "mean = total\n",
    "if len(number_list) > 1:\n",
    "    mean = total / len(number_list)\n",
    "print(mean)"
   ]
  },
  {
   "cell_type": "code",
   "execution_count": 22,
   "metadata": {},
   "outputs": [
    {
     "output_type": "stream",
     "name": "stdout",
     "text": [
      "500273.394284\n"
     ]
    }
   ],
   "source": [
    "print(random_numbers.mean())"
   ]
  },
  {
   "cell_type": "code",
   "execution_count": 24,
   "metadata": {},
   "outputs": [
    {
     "output_type": "stream",
     "name": "stdout",
     "text": [
      "The Median of the Initialized list is:  [856644]\n"
     ]
    }
   ],
   "source": [
    "# Median\n",
    "medianIndex = 0\n",
    "\n",
    "if len(random_numbers) > 1:\n",
    "    medianIndex = len(random_numbers) // 2\n",
    "\n",
    "print(\"The Median of the Initialized list is: \",random_numbers[medianIndex] )\n",
    "\n"
   ]
  },
  {
   "cell_type": "code",
   "execution_count": null,
   "metadata": {},
   "outputs": [],
   "source": []
  }
 ]
}