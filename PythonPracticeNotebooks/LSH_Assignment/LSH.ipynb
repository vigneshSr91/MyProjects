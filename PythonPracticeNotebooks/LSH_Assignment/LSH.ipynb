{
 "metadata": {
  "language_info": {
   "codemirror_mode": {
    "name": "ipython",
    "version": 3
   },
   "file_extension": ".py",
   "mimetype": "text/x-python",
   "name": "python",
   "nbconvert_exporter": "python",
   "pygments_lexer": "ipython3",
   "version": "3.8.5"
  },
  "orig_nbformat": 4,
  "kernelspec": {
   "name": "python3",
   "display_name": "Python 3.8.5 64-bit ('base': conda)"
  },
  "interpreter": {
   "hash": "adb4ca985ed9a3cb7f38b00661ba9f6c8f4ea72e7212f13ee19c80eee02589bd"
  }
 },
 "nbformat": 4,
 "nbformat_minor": 2,
 "cells": [
  {
   "source": [
    "# Implement LSH from scratch\n",
    "\n",
    "In this assignment, you will implement LSH from scratch and predict the labels of the test data. You will then verify the correctness of the your implementation using a \"grader\" function/cell (provided by us) which will match your implmentation.\n",
    "\n",
    "The grader fucntion would help you validate the correctness of your code. \n",
    "\n",
    "Please submit the final Colab notebook in the classroom ONLY after you have verified your code using the grader function/cell.\n",
    "\n",
    "\n",
    "**NOTE: DO NOT change the \"grader\" functions or code snippets written by us.Please add your code in the suggested locations.**\n",
    "\n",
    "Ethics Code:\n",
    "1. You are welcome to read up online resources to implement the code. \n",
    "2. You can also discuss with your classmates on the implmentation over Slack.\n",
    "3. But, the code you wirte and submit should be yours ONLY. Your code will be compared against other stduents' code and online code snippets to check for plagiarism. If your code is found to be plagiarised, you will be awarded zero-marks for all assignments, which have a 10% wieghtage in the final marks for this course."
   ],
   "cell_type": "markdown",
   "metadata": {}
  },
  {
   "cell_type": "code",
   "execution_count": 1,
   "metadata": {},
   "outputs": [],
   "source": [
    "import pandas as pd\n",
    "df = pd.read_csv('lsh_assignment_data.csv')"
   ]
  },
  {
   "cell_type": "code",
   "execution_count": 2,
   "metadata": {},
   "outputs": [
    {
     "output_type": "execute_result",
     "data": {
      "text/plain": [
       "        category                                               text\n",
       "0           tech  tv future in the hands of viewers with home th...\n",
       "1       business  worldcom boss  left books alone  former worldc...\n",
       "2          sport  tigers wary of farrell  gamble  leicester say ...\n",
       "3          sport  yeading face newcastle in fa cup premiership s...\n",
       "4  entertainment  ocean s twelve raids box office ocean s twelve..."
      ],
      "text/html": "<div>\n<style scoped>\n    .dataframe tbody tr th:only-of-type {\n        vertical-align: middle;\n    }\n\n    .dataframe tbody tr th {\n        vertical-align: top;\n    }\n\n    .dataframe thead th {\n        text-align: right;\n    }\n</style>\n<table border=\"1\" class=\"dataframe\">\n  <thead>\n    <tr style=\"text-align: right;\">\n      <th></th>\n      <th>category</th>\n      <th>text</th>\n    </tr>\n  </thead>\n  <tbody>\n    <tr>\n      <th>0</th>\n      <td>tech</td>\n      <td>tv future in the hands of viewers with home th...</td>\n    </tr>\n    <tr>\n      <th>1</th>\n      <td>business</td>\n      <td>worldcom boss  left books alone  former worldc...</td>\n    </tr>\n    <tr>\n      <th>2</th>\n      <td>sport</td>\n      <td>tigers wary of farrell  gamble  leicester say ...</td>\n    </tr>\n    <tr>\n      <th>3</th>\n      <td>sport</td>\n      <td>yeading face newcastle in fa cup premiership s...</td>\n    </tr>\n    <tr>\n      <th>4</th>\n      <td>entertainment</td>\n      <td>ocean s twelve raids box office ocean s twelve...</td>\n    </tr>\n  </tbody>\n</table>\n</div>"
     },
     "metadata": {},
     "execution_count": 2
    }
   ],
   "source": [
    "df.head()"
   ]
  },
  {
   "cell_type": "code",
   "execution_count": 3,
   "metadata": {},
   "outputs": [
    {
     "output_type": "execute_result",
     "data": {
      "text/plain": [
       "sport            509\n",
       "business         508\n",
       "politics         415\n",
       "tech             399\n",
       "entertainment    384\n",
       "Name: category, dtype: int64"
      ]
     },
     "metadata": {},
     "execution_count": 3
    }
   ],
   "source": [
    "df['category'].value_counts()"
   ]
  },
  {
   "source": [
    "### Creating Train and Test Datasets\n",
    "\n",
    "Note that the labels for test data will not be present in the dataset and hence they are mentioned as NaN."
   ],
   "cell_type": "markdown",
   "metadata": {}
  },
  {
   "cell_type": "code",
   "execution_count": 4,
   "metadata": {},
   "outputs": [],
   "source": [
    "# The last 10 rows in the csv file are query points, so loading them into test data.\n",
    "# And loading the reamining points to train_data for which labels are given.\n",
    "\n",
    "train_data = df.iloc[:-10,:]\n",
    "test_data = df.iloc[-10:,:]"
   ]
  },
  {
   "cell_type": "code",
   "execution_count": 5,
   "metadata": {},
   "outputs": [
    {
     "output_type": "execute_result",
     "data": {
      "text/plain": [
       "           category                                               text\n",
       "0              tech  tv future in the hands of viewers with home th...\n",
       "1          business  worldcom boss  left books alone  former worldc...\n",
       "2             sport  tigers wary of farrell  gamble  leicester say ...\n",
       "3             sport  yeading face newcastle in fa cup premiership s...\n",
       "4     entertainment  ocean s twelve raids box office ocean s twelve...\n",
       "...             ...                                                ...\n",
       "2210       politics  teens  know little  of politics teenagers ques...\n",
       "2211  entertainment  lopez misses uk charity premiere jennifer lope...\n",
       "2212       business  christmas shoppers flock to tills shops all ov...\n",
       "2213           tech  progress on new internet domains by early 2005...\n",
       "2214       business  bush budget seeks deep cutbacks president bush...\n",
       "\n",
       "[2215 rows x 2 columns]"
      ],
      "text/html": "<div>\n<style scoped>\n    .dataframe tbody tr th:only-of-type {\n        vertical-align: middle;\n    }\n\n    .dataframe tbody tr th {\n        vertical-align: top;\n    }\n\n    .dataframe thead th {\n        text-align: right;\n    }\n</style>\n<table border=\"1\" class=\"dataframe\">\n  <thead>\n    <tr style=\"text-align: right;\">\n      <th></th>\n      <th>category</th>\n      <th>text</th>\n    </tr>\n  </thead>\n  <tbody>\n    <tr>\n      <th>0</th>\n      <td>tech</td>\n      <td>tv future in the hands of viewers with home th...</td>\n    </tr>\n    <tr>\n      <th>1</th>\n      <td>business</td>\n      <td>worldcom boss  left books alone  former worldc...</td>\n    </tr>\n    <tr>\n      <th>2</th>\n      <td>sport</td>\n      <td>tigers wary of farrell  gamble  leicester say ...</td>\n    </tr>\n    <tr>\n      <th>3</th>\n      <td>sport</td>\n      <td>yeading face newcastle in fa cup premiership s...</td>\n    </tr>\n    <tr>\n      <th>4</th>\n      <td>entertainment</td>\n      <td>ocean s twelve raids box office ocean s twelve...</td>\n    </tr>\n    <tr>\n      <th>...</th>\n      <td>...</td>\n      <td>...</td>\n    </tr>\n    <tr>\n      <th>2210</th>\n      <td>politics</td>\n      <td>teens  know little  of politics teenagers ques...</td>\n    </tr>\n    <tr>\n      <th>2211</th>\n      <td>entertainment</td>\n      <td>lopez misses uk charity premiere jennifer lope...</td>\n    </tr>\n    <tr>\n      <th>2212</th>\n      <td>business</td>\n      <td>christmas shoppers flock to tills shops all ov...</td>\n    </tr>\n    <tr>\n      <th>2213</th>\n      <td>tech</td>\n      <td>progress on new internet domains by early 2005...</td>\n    </tr>\n    <tr>\n      <th>2214</th>\n      <td>business</td>\n      <td>bush budget seeks deep cutbacks president bush...</td>\n    </tr>\n  </tbody>\n</table>\n<p>2215 rows × 2 columns</p>\n</div>"
     },
     "metadata": {},
     "execution_count": 5
    }
   ],
   "source": [
    "# For train_data here the labels are in the column named \"category\".\n",
    "train_data"
   ]
  },
  {
   "cell_type": "code",
   "execution_count": 6,
   "metadata": {},
   "outputs": [
    {
     "output_type": "execute_result",
     "data": {
      "text/plain": [
       "     category                                               text\n",
       "2215      NaN  junk e-mails on relentless rise spam traffic i...\n",
       "2216      NaN  top stars join us tsunami tv show brad pitt  r...\n",
       "2217      NaN  rings of steel combat net attacks gambling is ...\n",
       "2218      NaN  davies favours gloucester future wales hooker ...\n",
       "2219      NaN  beijingers fume over parking fees choking traf...\n",
       "2220      NaN  cars pull down us retail figures us retail sal...\n",
       "2221      NaN  kilroy unveils immigration policy ex-chatshow ...\n",
       "2222      NaN  rem announce new glasgow concert us band rem h...\n",
       "2223      NaN  how political squabbles snowball it s become c...\n",
       "2224      NaN  souness delight at euro progress boss graeme s..."
      ],
      "text/html": "<div>\n<style scoped>\n    .dataframe tbody tr th:only-of-type {\n        vertical-align: middle;\n    }\n\n    .dataframe tbody tr th {\n        vertical-align: top;\n    }\n\n    .dataframe thead th {\n        text-align: right;\n    }\n</style>\n<table border=\"1\" class=\"dataframe\">\n  <thead>\n    <tr style=\"text-align: right;\">\n      <th></th>\n      <th>category</th>\n      <th>text</th>\n    </tr>\n  </thead>\n  <tbody>\n    <tr>\n      <th>2215</th>\n      <td>NaN</td>\n      <td>junk e-mails on relentless rise spam traffic i...</td>\n    </tr>\n    <tr>\n      <th>2216</th>\n      <td>NaN</td>\n      <td>top stars join us tsunami tv show brad pitt  r...</td>\n    </tr>\n    <tr>\n      <th>2217</th>\n      <td>NaN</td>\n      <td>rings of steel combat net attacks gambling is ...</td>\n    </tr>\n    <tr>\n      <th>2218</th>\n      <td>NaN</td>\n      <td>davies favours gloucester future wales hooker ...</td>\n    </tr>\n    <tr>\n      <th>2219</th>\n      <td>NaN</td>\n      <td>beijingers fume over parking fees choking traf...</td>\n    </tr>\n    <tr>\n      <th>2220</th>\n      <td>NaN</td>\n      <td>cars pull down us retail figures us retail sal...</td>\n    </tr>\n    <tr>\n      <th>2221</th>\n      <td>NaN</td>\n      <td>kilroy unveils immigration policy ex-chatshow ...</td>\n    </tr>\n    <tr>\n      <th>2222</th>\n      <td>NaN</td>\n      <td>rem announce new glasgow concert us band rem h...</td>\n    </tr>\n    <tr>\n      <th>2223</th>\n      <td>NaN</td>\n      <td>how political squabbles snowball it s become c...</td>\n    </tr>\n    <tr>\n      <th>2224</th>\n      <td>NaN</td>\n      <td>souness delight at euro progress boss graeme s...</td>\n    </tr>\n  </tbody>\n</table>\n</div>"
     },
     "metadata": {},
     "execution_count": 6
    }
   ],
   "source": [
    "test_data"
   ]
  },
  {
   "source": [
    "## Custom Implementation"
   ],
   "cell_type": "markdown",
   "metadata": {}
  },
  {
   "source": [
    "### Instructions:\n",
    "\n",
    "  1. Read in the train_data.\n",
    "  2. Vectorize train_data using sklearns built in tfidf vectorizer.\n",
    "  3. Ignore unigrams and make use of both **bigrams & trigrams** and also limit the **max features** to **4000** and **minimum document frequency** to **10**.\n",
    "  4. After the tfidf vectors are generated as mentioned above, next task is to generate random hyperplanes.\n",
    "  5. Generate **5 random hyperplanes**. And generate the hyperplanes using a random normal distribution with **mean zero and variance 1**. \n",
    "  6. We have set the **numpy random seed to zero**, please do not change it. And then you can make use of **np.random.normal** to generate the vectors for hyperplanes.\n",
    "  7. As mentioned in the course videos, compute the hash function and also the corresponding hash table for it.\n",
    "  8. Once the hash table is generated now take in each of the query points from the test data.\n",
    "  9. Vectorize those query points using the same tfidf vectorizer as mentioned above.\n",
    "  10. Now use the hash function on this query point and fetch all the similar data points from the hashtable.\n",
    "  11. Use cosine similarity to compute **11-Nearest Neighbours** from the list of data points obtained in the above step.\n",
    "  12. Take a majority vote among the 11-Nearest Neighbours and predict the class label for the query point in the test data.\n",
    "  13. **In case of a tie** in the obtained labels from nearest neighbours, you can pick a label after sorting all the labels **alphabetically**(A-Z), i.e. for example labels starting with A would get more preference than labels starting with Z.\n",
    "  14. Repeat steps 9 to 13 for all the points in the test data and then finally return a list with all the predicted labels.\n",
    "  15. Note that there are a total of 10 data points in the test data so the final list you return should be of length 10.\n",
    "  16. Also note that the cosine similarity function should be written from scratch, you should not directly make use of existing libraries.\n",
    "  17. Please use the formula of cosine similarity as explained in the course videos, you can make use of numpy or scipy to calculate dot or norm or transpose."
   ],
   "cell_type": "markdown",
   "metadata": {}
  },
  {
   "cell_type": "code",
   "execution_count": 27,
   "metadata": {},
   "outputs": [],
   "source": [
    "# Please implement this fucntion and write your code wherever asked. Do NOT change the code snippets provided by us.\n",
    "import math\n",
    "import numpy as np\n",
    "from sklearn.feature_extraction.text import TfidfVectorizer\n",
    "from collections import Counter\n",
    "from numpy import linalg as LA\n",
    "\n",
    "def hashFunction(bins):\n",
    "    hTable = dict()\n",
    "    for i in range(len(bins)):\n",
    "        bin = bins[i]\n",
    "        key = tuple(bin)\n",
    "        if key in hTable:\n",
    "            value = list(hTable.get(key))\n",
    "            value.append(i)\n",
    "            hTable[key] = value\n",
    "        else:\n",
    "            hTable[key] = [i]\n",
    "\n",
    "    return hTable\n",
    "\n",
    "def calculateMaxCategory(categories):\n",
    "    maxCategory = []\n",
    "    votes = Counter(categories)\n",
    "    dict = {}\n",
    "\n",
    "    for value in votes.values():\n",
    "        dict[value] = []\n",
    "\n",
    "    for (key,value) in votes.items():\n",
    "        dict[value].append(key)\n",
    "    \n",
    "    maxVote = sorted(dict.keys(),reverse=True)[0]\n",
    "\n",
    "    if len(dict[maxVote])>1:\n",
    "        # Alphabetical sorting required in case of clash\n",
    "        maxCategory.append(sorted(dict[maxVote])[0])\n",
    "    else:\n",
    "        maxCategory.append(dict[maxVote][0])\n",
    "    return maxCategory\n",
    "\n",
    "def predictLabels (test_data):\n",
    "\n",
    "  \"\"\"\n",
    "  Given the test_data, return the labels for all the rows in the test data.\n",
    "  Follow the step by step instructions mentioned above.\n",
    "  \"\"\"\n",
    "\n",
    "  np.random.seed(0)\n",
    "\n",
    "  tf_idf_vect = TfidfVectorizer(ngram_range=(2,3), max_features=4000, min_df=10)\n",
    "  tf_idf = tf_idf_vect.fit_transform(train_data['text'].values)\n",
    "\n",
    "  tf_idf_test = tf_idf_vect.transform(test_data['text'].values)\n",
    "\n",
    "  np.random.seed(0)\n",
    "  hyperplanes = np.empty(5,dtype=object)\n",
    "  hyperplanes = np.random.normal(0,1,(5,4000))\n",
    "\n",
    "  \n",
    "  testBin = tf_idf_test.dot(hyperplanes.T) >= 0\n",
    "\n",
    "  bins = tf_idf.dot(hyperplanes.T) >= 0\n",
    "  hashTable = hashFunction(bins)\n",
    "\n",
    "  result = np.empty(10,dtype=object)\n",
    "\n",
    "\n",
    "  for i in range(len(testBin)):\n",
    "      candidates=[]\n",
    "      distances=[]\n",
    "      dataPoints = hashTable.get(tuple(testBin[i]))\n",
    "      queryPoint = tf_idf_test[i].toarray()[0]\n",
    "\n",
    "\n",
    "\n",
    "      for index in dataPoints:\n",
    "          vector = tf_idf[index].toarray()[0]\n",
    "          candidates.append(index)\n",
    "          cosine = np.dot(queryPoint,vector)/( LA.norm(queryPoint) * LA.norm(vector) )\n",
    "          distances.append(cosine)\n",
    "\n",
    "      nearest_neighbors = pd.DataFrame({'id': candidates, 'distance_col': distances\n",
    "        }).sort_values(by='distance_col',ascending=False).reset_index(drop=True)\n",
    "      nearest_neighbors = nearest_neighbors.iloc[:12,:]\n",
    "      neighbor_ids = nearest_neighbors['id'].values\n",
    "\n",
    "      categories = []\n",
    "\n",
    "      for dataPoint in neighbor_ids:\n",
    "          categories.append(train_data.iloc[dataPoint,0])\n",
    "      \n",
    "      result[i] = calculateMaxCategory(categories)[0]\n",
    "\n",
    "  return result"
   ]
  },
  {
   "source": [
    "## Grader Cell\n",
    "\n",
    "Please execute the following Grader cell to verify the correctness of your above implementation. This cell will print \"Success\" if your implmentation of the predictLabels() is correct, else, it will print \"Failed\". Make sure you get a \"Success\" before you submit the code in the classroom."
   ],
   "cell_type": "markdown",
   "metadata": {}
  },
  {
   "cell_type": "code",
   "execution_count": 28,
   "metadata": {},
   "outputs": [
    {
     "output_type": "stream",
     "name": "stdout",
     "text": [
      "******** Success ******** Accuracy Achieved =  90 %\n"
     ]
    }
   ],
   "source": [
    "###########################################\n",
    "## GRADER CELL: Do NOT Change this.\n",
    "# This cell will print \"Success\" if your implmentation of the predictLabels() is correct and the accuracy obtained is above 80%.\n",
    "# Else, it will print \"Failed\"\n",
    "###########################################\n",
    "import numpy as np\n",
    "\n",
    "# Predict the labels using the predictLabels() function\n",
    "Y_custom = np.array(predictLabels(test_data))\n",
    "\n",
    "# Reference grader array - DO NOT MODIFY IT\n",
    "Y_grader = np.array(['tech', 'entertainment', 'tech', 'sport', 'business', 'business', 'politics', 'entertainment', 'politics', 'sport'])\n",
    "\n",
    "# Calculating accuracy by comparing Y_grader and Y_custom\n",
    "accuracy = np.sum(Y_grader==Y_custom) * 10\n",
    "\n",
    "if accuracy >= 80:\n",
    "  print(\"******** Success ********\",\"Accuracy Achieved = \", accuracy,'%')\n",
    "else:\n",
    "  print(\"####### Failed #######\",\"Accuracy Achieved = \", accuracy,'%')\n",
    "  print(\"\\nY_grader = \\n\\n\", Y_grader)\n",
    "  print(\"\\n\",\"*\"*50)\n",
    "  print(\"\\nY_custom = \\n\\n\", Y_custom)\n"
   ]
  },
  {
   "cell_type": "code",
   "execution_count": null,
   "metadata": {},
   "outputs": [],
   "source": []
  }
 ]
}