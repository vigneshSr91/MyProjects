{
 "cells": [
  {
   "cell_type": "markdown",
   "source": [
    "# Implement Logistic Regression from scratch\n",
    "\n",
    "In this assignment, you will implement Logistic Regression with L1 regularization from scratch and predict the labels of the test data. You will then verify the correctness of the your implementation using multiple \"grader\" functions/cells (provided by us) which will match your implmentation.\n",
    "\n",
    "The grader functions would help you validate the correctness of your code. \n",
    "\n",
    "Please submit the final Colab notebook in the classroom ONLY after you have verified your code using the grader functions/cells.\n",
    "\n",
    "\n",
    "**NOTE: DO NOT change the \"grader\" functions or code snippets written by us.Please add your code in the suggested locations.**\n",
    "\n",
    "Ethics Code:\n",
    "1. You are welcome to read up online resources to implement the code. \n",
    "2. You can also discuss with your classmates on the implmentation over Slack.\n",
    "3. But, the code you write and submit should be yours ONLY. Your code will be compared against other stduents' code and online code snippets to check for plagiarism. If your code is found to be plagiarised, you will be awarded zero-marks for all assignments, which have a 10% weightage in the final marks for this course."
   ],
   "metadata": {}
  },
  {
   "cell_type": "code",
   "execution_count": 1,
   "source": [
    "# Loading data from csv file\r\n",
    "import pandas as pd\r\n",
    "data_path = 'logistic_regression_assignment_data.csv'\r\n",
    "\r\n",
    "df = pd.read_csv(data_path)\r\n",
    "df"
   ],
   "outputs": [
    {
     "output_type": "execute_result",
     "data": {
      "text/plain": [
       "      category                                               text\n",
       "0            0  worldcom boss  left books alone  former worldc...\n",
       "1            1  tigers wary of farrell  gamble  leicester say ...\n",
       "2            1  yeading face newcastle in fa cup premiership s...\n",
       "3            1  henman hopes ended in dubai third seed tim hen...\n",
       "4            1  wilkinson fit to face edinburgh england captai...\n",
       "...        ...                                                ...\n",
       "1012         0  wall street cool to ebay s profit shares in on...\n",
       "1013         0  ban on forced retirement under 65 employers wi...\n",
       "1014         1  time to get tough on friendlies  for an intern...\n",
       "1015         0  christmas shoppers flock to tills shops all ov...\n",
       "1016         0  bush budget seeks deep cutbacks president bush...\n",
       "\n",
       "[1017 rows x 2 columns]"
      ],
      "text/html": [
       "<div>\n",
       "<style scoped>\n",
       "    .dataframe tbody tr th:only-of-type {\n",
       "        vertical-align: middle;\n",
       "    }\n",
       "\n",
       "    .dataframe tbody tr th {\n",
       "        vertical-align: top;\n",
       "    }\n",
       "\n",
       "    .dataframe thead th {\n",
       "        text-align: right;\n",
       "    }\n",
       "</style>\n",
       "<table border=\"1\" class=\"dataframe\">\n",
       "  <thead>\n",
       "    <tr style=\"text-align: right;\">\n",
       "      <th></th>\n",
       "      <th>category</th>\n",
       "      <th>text</th>\n",
       "    </tr>\n",
       "  </thead>\n",
       "  <tbody>\n",
       "    <tr>\n",
       "      <th>0</th>\n",
       "      <td>0</td>\n",
       "      <td>worldcom boss  left books alone  former worldc...</td>\n",
       "    </tr>\n",
       "    <tr>\n",
       "      <th>1</th>\n",
       "      <td>1</td>\n",
       "      <td>tigers wary of farrell  gamble  leicester say ...</td>\n",
       "    </tr>\n",
       "    <tr>\n",
       "      <th>2</th>\n",
       "      <td>1</td>\n",
       "      <td>yeading face newcastle in fa cup premiership s...</td>\n",
       "    </tr>\n",
       "    <tr>\n",
       "      <th>3</th>\n",
       "      <td>1</td>\n",
       "      <td>henman hopes ended in dubai third seed tim hen...</td>\n",
       "    </tr>\n",
       "    <tr>\n",
       "      <th>4</th>\n",
       "      <td>1</td>\n",
       "      <td>wilkinson fit to face edinburgh england captai...</td>\n",
       "    </tr>\n",
       "    <tr>\n",
       "      <th>...</th>\n",
       "      <td>...</td>\n",
       "      <td>...</td>\n",
       "    </tr>\n",
       "    <tr>\n",
       "      <th>1012</th>\n",
       "      <td>0</td>\n",
       "      <td>wall street cool to ebay s profit shares in on...</td>\n",
       "    </tr>\n",
       "    <tr>\n",
       "      <th>1013</th>\n",
       "      <td>0</td>\n",
       "      <td>ban on forced retirement under 65 employers wi...</td>\n",
       "    </tr>\n",
       "    <tr>\n",
       "      <th>1014</th>\n",
       "      <td>1</td>\n",
       "      <td>time to get tough on friendlies  for an intern...</td>\n",
       "    </tr>\n",
       "    <tr>\n",
       "      <th>1015</th>\n",
       "      <td>0</td>\n",
       "      <td>christmas shoppers flock to tills shops all ov...</td>\n",
       "    </tr>\n",
       "    <tr>\n",
       "      <th>1016</th>\n",
       "      <td>0</td>\n",
       "      <td>bush budget seeks deep cutbacks president bush...</td>\n",
       "    </tr>\n",
       "  </tbody>\n",
       "</table>\n",
       "<p>1017 rows × 2 columns</p>\n",
       "</div>"
      ]
     },
     "metadata": {},
     "execution_count": 1
    }
   ],
   "metadata": {}
  },
  {
   "cell_type": "markdown",
   "source": [
    "#### **Note:** Here class-0 is of category \"business\" and class-1 is of category \"sport\""
   ],
   "metadata": {}
  },
  {
   "cell_type": "code",
   "execution_count": 2,
   "source": [
    "# Data Overiview\r\n",
    "df['category'].value_counts()"
   ],
   "outputs": [
    {
     "output_type": "execute_result",
     "data": {
      "text/plain": [
       "1    509\n",
       "0    508\n",
       "Name: category, dtype: int64"
      ]
     },
     "metadata": {},
     "execution_count": 2
    }
   ],
   "metadata": {}
  },
  {
   "cell_type": "markdown",
   "source": [
    "### Creating Train and Test Datasets\n"
   ],
   "metadata": {}
  },
  {
   "cell_type": "code",
   "execution_count": 3,
   "source": [
    "# Splitting the data into train and test\r\n",
    "\r\n",
    "from sklearn.model_selection import train_test_split\r\n",
    "\r\n",
    "text = df['text']\r\n",
    "category = df['category']\r\n",
    "train_text, test_text, train_category, test_category = train_test_split(text, category, random_state=42, stratify=category, test_size=0.01)\r\n",
    "\r\n",
    "print(\"Shape of Train_Text = \", train_text.shape)\r\n",
    "print(\"Shape of Test_Text = \", test_text.shape)\r\n",
    "print(\"Shape of Train_Category = \", train_category.shape)\r\n",
    "print(\"Shape of Train_Category = \", test_category.shape)"
   ],
   "outputs": [
    {
     "output_type": "stream",
     "name": "stdout",
     "text": [
      "Shape of Train_Text =  (1006,)\n",
      "Shape of Test_Text =  (11,)\n",
      "Shape of Train_Category =  (1006,)\n",
      "Shape of Train_Category =  (11,)\n"
     ]
    }
   ],
   "metadata": {}
  },
  {
   "cell_type": "markdown",
   "source": [
    "## Custom Implementation"
   ],
   "metadata": {}
  },
  {
   "cell_type": "markdown",
   "source": [
    "### Instructions:\n",
    "\n",
    "  1. Read in the train_data.\n",
    "  2. Vectorize train_data and test_data using sklearns built in tfidf vectorizer.\n",
    "  3. Ignore unigrams and make use of both **bigrams & trigrams** and also limit the **max features** to **2000** and **minimum document frequency** to **10**.\n",
    "  4. After the tfidf vectors are generated as mentioned above, next task is to column standardize your data.\n",
    "  5. We want you to write in comments in your code, the reason you think for standardizing the data in the above step.\n",
    "  6. You can use sklearn StandardScaler to column standardize your data.\n",
    "  7. Write a function to initialise your weights & bias. And then run its corresponding grader function.\n",
    "  8. Write a custom function to calculate sigmoid of a value. And then run its corresponding grader function to cross check your implementation of sigmoid function.\n",
    "  9. Write a custom function to compute the total loss as the sum of log loss and l1 regularization loss based on true labels and predicted labels and weights. And you can crosscheck your implementation with its corresponding grader.\n",
    "  10. Write a function to compute gradients for your weights and bias terms, which you have to make use of in updating your weights and bias while training your model.\n",
    "  11. Implement a custom train function of logistic regression, wherein you take in the following inputs:\n",
    "        * **X_train** which will be your vectorized text data\n",
    "        * **y_train** which are the labels for your train data\n",
    "        * **alpha** = 0.0001 which is the regularization factor (λ) \n",
    "        * **eta0** = 0.0001 which will be the learning rate   \n",
    "        * **tolerance** = 0.001\n",
    "        \n",
    "  12. In the custom train function you should make use of a custom SGD function to update the weights and bias terms for **each** of your inputs. \n",
    "  13. The custom SGD implemented in the above train function for updating the weights and bias terms should run for many epochs until the difference in loss between two consecutive epochs is less than tolerance.\n",
    "\n",
    "  14. Here one epoch means a complete iteration of your entire train data.\n",
    "  15. Your train function should return the follwing:\n",
    "        * the number of epochs it took to complete the training\n",
    "        * train loss for all epochs\n",
    "        * the values for final weights and bias terms.\n",
    "        \n",
    "  16. Now run the grader function to check whether the weights and bias obtained from your custom implementation are close enough to that of sklearns implementation.\n",
    "  17. Next write a custom predict function which takes in as input the weights and bias values that you computed in your train function, and also takes in the test standardized data as input to predict its labels.\n",
    "  18. Now run the grader function to check the accuracy of your predictions.\n",
    "\n",
    "\n",
    "\n"
   ],
   "metadata": {}
  },
  {
   "cell_type": "markdown",
   "source": [
    "### Import necessary libraries"
   ],
   "metadata": {}
  },
  {
   "cell_type": "code",
   "execution_count": 4,
   "source": [
    "import numpy as np\r\n",
    "from sklearn.feature_extraction.text import TfidfVectorizer\r\n",
    "from sklearn.preprocessing import StandardScaler\r\n",
    "from sklearn import linear_model\r\n",
    "import matplotlib.pyplot as plt\r\n",
    "import math"
   ],
   "outputs": [],
   "metadata": {}
  },
  {
   "cell_type": "markdown",
   "source": [
    "### 1. Vectorize train data and test data using sklearn tf-idf in the below cell"
   ],
   "metadata": {}
  },
  {
   "cell_type": "code",
   "execution_count": 5,
   "source": [
    "'''vectorize train and test data using TF-IDF and store them in train_vectors and test_vectors respectively'''\r\n",
    "vectorizer = TfidfVectorizer(ngram_range=(2,3),max_features=2000,min_df=10)\r\n",
    "train_vectors = vectorizer.fit_transform(train_text)\r\n",
    "test_vectors = vectorizer.transform(test_text)\r\n",
    "train_vectors.shape, test_vectors.shape"
   ],
   "outputs": [
    {
     "output_type": "execute_result",
     "data": {
      "text/plain": [
       "((1006, 2000), (11, 2000))"
      ]
     },
     "metadata": {},
     "execution_count": 5
    }
   ],
   "metadata": {}
  },
  {
   "cell_type": "markdown",
   "source": [
    "### 2. Column standardize the train and test data"
   ],
   "metadata": {}
  },
  {
   "cell_type": "markdown",
   "source": [
    "What is the reasoning for column standardizing the data?"
   ],
   "metadata": {}
  },
  {
   "cell_type": "markdown",
   "source": [
    "Answer: Different features could be in different scales, it is hence important from performance pov to perform column standardize the data so that features at different scales do not impact the logistic regression model(which is distance based)"
   ],
   "metadata": {}
  },
  {
   "cell_type": "code",
   "execution_count": 6,
   "source": [
    "'''column standardize the train and test data and store them in train_vectors_stand and test_vectors_stand'''\r\n",
    "scaler = StandardScaler( )\r\n",
    "train_vectors_stand = scaler.fit_transform(train_vectors.todense())\r\n",
    "test_vectors_stand = scaler.transform(test_vectors.todense())\r\n",
    "train_vectors_stand.shape, test_vectors_stand.shape"
   ],
   "outputs": [
    {
     "output_type": "execute_result",
     "data": {
      "text/plain": [
       "((1006, 2000), (11, 2000))"
      ]
     },
     "metadata": {},
     "execution_count": 6
    }
   ],
   "metadata": {}
  },
  {
   "cell_type": "markdown",
   "source": [
    "### 3. Custom function to intialise your weights and bias terms"
   ],
   "metadata": {}
  },
  {
   "cell_type": "code",
   "execution_count": 7,
   "source": [
    "def initialize_weights_bias(dim):\r\n",
    "    ''' In this function, we will initialize our weights and bias terms'''\r\n",
    "\r\n",
    "    # Initialize the weights to zeros array of (dim) dimensions. Here dim will be the number of features of your tfidf vectorizer output.\r\n",
    "    # You can initialize the weight terms with zeros.\r\n",
    "    # Initialize bias term to zero\r\n",
    "    # Write your code below.\r\n",
    "    \r\n",
    "    w = np.zeros((dim))\r\n",
    "    b = 0\r\n",
    "    return w,b"
   ],
   "outputs": [],
   "metadata": {}
  },
  {
   "cell_type": "markdown",
   "source": [
    "### Grader Function - 1"
   ],
   "metadata": {}
  },
  {
   "cell_type": "code",
   "execution_count": 8,
   "source": [
    "# Grader function to check the initialization of your weights and bias terms.\r\n",
    "\r\n",
    "def grader_weights_bias(w,b):\r\n",
    "  assert((len(w)==2000) and b==0)\r\n",
    "  return True\r\n",
    "\r\n",
    "dim = 2000\r\n",
    "w,b = initialize_weights_bias(dim)\r\n",
    "grader_1 = grader_weights_bias(w,b)\r\n",
    "print(\"Grader_1 Status : \", grader_1)"
   ],
   "outputs": [
    {
     "output_type": "stream",
     "name": "stdout",
     "text": [
      "Grader_1 Status :  True\n"
     ]
    }
   ],
   "metadata": {}
  },
  {
   "cell_type": "markdown",
   "source": [
    "### 4. Custom function to calculate sigmoid of a value"
   ],
   "metadata": {}
  },
  {
   "cell_type": "code",
   "execution_count": 9,
   "source": [
    "def custom_sigmoid(z):\r\n",
    "    ''' In this function, we will return sigmoid of z'''\r\n",
    "    \r\n",
    "    # Compute sigmoid(z) and return its value.\r\n",
    "    # Write your code below.\r\n",
    "    sigmoid = 1 / (1 + np.exp(-z))\r\n",
    "    return sigmoid"
   ],
   "outputs": [],
   "metadata": {}
  },
  {
   "cell_type": "markdown",
   "source": [
    "### Grader Function - 2"
   ],
   "metadata": {}
  },
  {
   "cell_type": "code",
   "execution_count": 10,
   "source": [
    "# Grader function to check the implementaiton of sigmoid function\r\n",
    "\r\n",
    "def grader_sigmoid(z):\r\n",
    "  val = custom_sigmoid(z)\r\n",
    "  assert(val==0.8807970779778823)\r\n",
    "  return True\r\n",
    "\r\n",
    "grader_2 = grader_sigmoid(2)\r\n",
    "print(\"Grader_2 Status : \", grader_2)"
   ],
   "outputs": [
    {
     "output_type": "stream",
     "name": "stdout",
     "text": [
      "Grader_2 Status :  True\n"
     ]
    }
   ],
   "metadata": {}
  },
  {
   "cell_type": "markdown",
   "source": [
    "### 5.  Custom function to compute loss function"
   ],
   "metadata": {}
  },
  {
   "cell_type": "markdown",
   "source": [
    "$logloss = -1*\\frac{1}{n}\\Sigma_{for each Y_{true},Y_{pred}}(Y_{true}log10(Y_{pred})+(1-Y_{true})log10(1-Y_{pred}))$ "
   ],
   "metadata": {}
  },
  {
   "cell_type": "markdown",
   "source": [
    "$L1 loss = \\Sigma_{for each w}(|w|)$"
   ],
   "metadata": {}
  },
  {
   "cell_type": "markdown",
   "source": [
    "$total loss = logloss + alpha*L1loss$<br>\n",
    "Where alphas is the regularization parameter"
   ],
   "metadata": {}
  },
  {
   "cell_type": "code",
   "execution_count": 11,
   "source": [
    "def logloss(y_true,y_pred):\r\n",
    "    log_loss = ((-1) * ((y_true * np.log10(y_pred)) + (1-y_true) * np.log10(1-y_pred)).sum() ) / len(y_true)\r\n",
    "\r\n",
    "    return log_loss"
   ],
   "outputs": [],
   "metadata": {}
  },
  {
   "cell_type": "code",
   "execution_count": 12,
   "source": [
    "def custom_loss(y_true, y_pred, alpha, w):\r\n",
    "    '''In this function, we will compute total loss which is [(logloss) + (alpha * L1regularization loss)] '''\r\n",
    "    \r\n",
    "    # Write your code below.\r\n",
    "    y_true = np.array(y_true)\r\n",
    "    y_pred= np.array(y_pred)\r\n",
    "    log_loss = logloss(y_true,y_pred)\r\n",
    "    l1_loss = np.sum(abs(w))\r\n",
    "    total_loss = log_loss + ( alpha * l1_loss )\r\n",
    "    return total_loss"
   ],
   "outputs": [],
   "metadata": {}
  },
  {
   "cell_type": "markdown",
   "source": [
    "### Grader Function - 3"
   ],
   "metadata": {}
  },
  {
   "cell_type": "code",
   "execution_count": 13,
   "source": [
    "# Grader function to check the implementaiton of logloss\r\n",
    "\r\n",
    "def grader_loss():\r\n",
    "  true_values = [1,1,0,1,0]\r\n",
    "  pred_values = [0.9,0.8,0.1,0.8,0.2]\r\n",
    "  w= np.array([0.1]*10)\r\n",
    "  alpha= 0.0001\r\n",
    "  loss = custom_loss(true_values, pred_values,alpha,w)\r\n",
    "  assert(loss==0.07644900402910389+0.0001*10*0.1)\r\n",
    "  return True\r\n",
    "\r\n",
    "\r\n",
    "grader_3 = grader_loss()\r\n",
    "print(\"Grader_3 Status : \", grader_3)"
   ],
   "outputs": [
    {
     "output_type": "stream",
     "name": "stdout",
     "text": [
      "Grader_3 Status :  True\n"
     ]
    }
   ],
   "metadata": {}
  },
  {
   "cell_type": "markdown",
   "source": [
    "### 6. Custom function to updated weights and bias terms"
   ],
   "metadata": {}
  },
  {
   "cell_type": "markdown",
   "source": [
    "Use the below formula to compute gradient of your weight and bias terms <br>\r\n",
    "Loss term Li for a single example is given as below: \r\n",
    "<br>\r\n",
    "<br>\r\n",
    "\r\n",
    "$Li= -(Y_{i}log10(𝝈_{i})-(1-Y_{i})log10(1-𝝈_{i}) + \\frac{alpha}{N}(sum(|w|))\r\n",
    "$ <br>\r\n",
    "<br>\r\n",
    "$Where: 𝝈_{i} = σ(w^{T} x_i+b) $ <br>\r\n",
    "<br>\r\n",
    "And: L1 regularization = $\\frac{alpha}{N}(sum(|w|)) $ <br>\r\n",
    "Alpha: It is the Regularization parameter <br>\r\n",
    "N : number of training examples<br>\r\n",
    "σ : sigmoid function <br>\r\n",
    "<br>\r\n",
    "<br>\r\n",
    "<br>\r\n",
    "$dLi/dw= -Y_{i}x_{i}(1-𝝈_{i}) + (1-Y_{i})x_{i}𝝈_{i} + \\frac{alpha}{N} \\frac{w + (1e-5)}{|w + (1e-5)|}  $<br>\r\n",
    "NOTE THAT: 1e-5 used in numerator and denominator to avoid division error <br>\r\n",
    "\r\n",
    "$dLi/db= -Y_{i}(1-𝝈_{i}) + (1-Y_{i})𝝈_{i}$<br>\r\n",
    "<br>\r\n",
    "<br>\r\n",
    "Hence,<br>\r\n",
    "$dLi/dw= dw = (𝝈_{i} -Y_{i})x_{i} + \\frac{alpha}{N}\\frac{w + (1e-5)}{|w + (1e-5)|} $<br>\r\n",
    "1e-5 used in numerator and denominator to avoid division error <br>\r\n",
    "$dLi/db =  db = 𝝈_{i}-Y_{i}$\r\n",
    "<br>\r\n",
    "<br>\r\n",
    "!!NOTE: USE NEGATIVE GRADIENT WHILE UPDATING"
   ],
   "metadata": {}
  },
  {
   "cell_type": "markdown",
   "source": [
    "### 6a. Custom function to compute Gradient of loss function wrt weights:"
   ],
   "metadata": {}
  },
  {
   "cell_type": "code",
   "execution_count": 14,
   "source": [
    "def gradient_dw(x, y, w, b, alpha, N):\r\n",
    "    '''In this function, we will compute the gardient w.r.t. w '''\r\n",
    "    \r\n",
    "    # Write your code below.\r\n",
    "    dw= (x*(custom_sigmoid(np.dot(w,x) + b) - y)) + ((alpha/N)*((w+1e-5)/abs(w+1e-5)))\r\n",
    "    return dw"
   ],
   "outputs": [],
   "metadata": {}
  },
  {
   "cell_type": "markdown",
   "source": [
    "### 6b.  Custom function to compute Gradient of loss function wrt bias term:"
   ],
   "metadata": {}
  },
  {
   "cell_type": "code",
   "execution_count": 15,
   "source": [
    "def gradient_db(x, y, w, b):\r\n",
    "    '''In this function, we will compute the gardient w.r.t. b '''\r\n",
    "    \r\n",
    "    # Write your code below.\r\n",
    "    db = custom_sigmoid(np.dot(w,x) + b) - y\r\n",
    "    return db"
   ],
   "outputs": [],
   "metadata": {}
  },
  {
   "cell_type": "markdown",
   "source": [
    "### 6c. Custom function to train logistic regression model"
   ],
   "metadata": {}
  },
  {
   "cell_type": "markdown",
   "source": [
    "$w^{(t+1)}← w^{(t)}- eta0*(dw^{(t)}) $<br>\r\n",
    "$b^{(t+1)}←b^{(t)} - eta0*(db^{(t)}) $"
   ],
   "metadata": {}
  },
  {
   "cell_type": "code",
   "execution_count": 16,
   "source": [
    "def custom_train(X_train, y_train,alpha, eta0,tolerance):\r\n",
    "  \"\"\"\r\n",
    "  In this function we will compute optimal values for weights and bias terms on\r\n",
    "  the train data. \r\n",
    "\r\n",
    "  Here eta0 is the learning rate and alpha is the regularization term.\r\n",
    "  \"\"\"\r\n",
    "  train_loss=[]\r\n",
    "  # Implement the code as follows:\r\n",
    "  # 1. Initalize the weights (call the initialize_weights(X_train[0]) function)\r\n",
    "  # 2. Repeat For many epochs until condition \"e\"  fails\r\n",
    "          # a) for every data point(X_train,y_train)\r\n",
    "                # compute gradient w.r.to w (call the gradient_dw() function)\r\n",
    "                # compute gradient w.r.to b (call the gradient_db() function)\r\n",
    "                # update w, b using the above eqns\r\n",
    "          # b) predict the output of x_train[for all data points in X_train] using w,b\r\n",
    "          # c) compute the loss between predicted and actual values (call the loss function)\r\n",
    "          # d) store all the train loss values in a list\r\n",
    "          # e) Compare previous loss and current loss, if the difference between loss is not more than or equal to the tolerance, stop the process and return w,b\r\n",
    "  # 3. Return the values of weights, bias, train_loss and num_epochs \r\n",
    "  #initializing the weights and bias\r\n",
    "  w,b = initialize_weights_bias(X_train.shape[1])\r\n",
    "  N = len(X_train)\r\n",
    "  for epoch in range(1,5000):\r\n",
    "    for i in range(N):\r\n",
    "      x = X_train[i]\r\n",
    "      y = y_train[i]\r\n",
    "      dw = gradient_dw(x, y, w, b, alpha, N)\r\n",
    "      db = gradient_db(x,y,w,b)\r\n",
    "      w = w - (eta0 * dw)\r\n",
    "      b = b - (eta0 * db)\r\n",
    "    train_pred = []\r\n",
    "    for i in X_train:\r\n",
    "      z = np.dot(w, i)\r\n",
    "      y_pred = custom_sigmoid(z+b)\r\n",
    "      train_pred.append(y_pred)\r\n",
    "    y_pred_arr = np.array(train_pred)\r\n",
    "    train_loss.append((custom_loss(y_train, y_pred_arr, alpha, w)))\r\n",
    "    if epoch > 1:\r\n",
    "      if ((train_loss[epoch-2]-train_loss[epoch-1])>=tolerance) == False:\r\n",
    "        break\r\n",
    "  return w,b,train_loss,epoch"
   ],
   "outputs": [],
   "metadata": {}
  },
  {
   "cell_type": "markdown",
   "source": [
    "### Grader Function - 4"
   ],
   "metadata": {}
  },
  {
   "cell_type": "code",
   "execution_count": 17,
   "source": [
    "def grader_weights_bias():\r\n",
    "  # fitting sklearn SGD classifier\r\n",
    "  clf = linear_model.SGDClassifier(eta0=0.0001, alpha=0.0001, loss='log', random_state=15, penalty='l1', tol=1e-3, learning_rate='constant')\r\n",
    "  clf.fit(train_vectors_stand,train_category.values)\r\n",
    "  model_coef= clf.coef_[0]\r\n",
    "  # fitting custom train with same learning rate, regularization and tolerance as of sklearn\r\n",
    "  w,b,_,epoch = custom_train(train_vectors_stand, train_category.values, 0.0001,0.0001,0.001)\r\n",
    "\r\n",
    "  # checking whether the weights and bias returned by both the implementations are closer\r\n",
    "  \r\n",
    "  assert(not (b-clf.intercept_>0.02)==True)\r\n",
    "  assert((not (w-model_coef>0.10).any())==True)\r\n",
    "  \r\n",
    "  return True\r\n",
    "\r\n",
    "grader_4 = grader_weights_bias()\r\n",
    "print(\"Grader_4 Status : \", grader_4)"
   ],
   "outputs": [
    {
     "output_type": "stream",
     "name": "stdout",
     "text": [
      "Grader_4 Status :  True\n"
     ]
    }
   ],
   "metadata": {}
  },
  {
   "cell_type": "markdown",
   "source": [
    "### 7. Plot the train loss with x as epoch number and y as train loss"
   ],
   "metadata": {}
  },
  {
   "cell_type": "code",
   "execution_count": 18,
   "source": [
    "# plotting graph for epoch vs loss for train and test data\r\n",
    "\r\n",
    "w,b,train_loss,epochs = custom_train(train_vectors_stand, train_category.values, 0.0001,0.0001,0.001)\r\n",
    "plt.plot(range(epochs),train_loss,label='train curve')\r\n",
    "plt.title('epoch vs loss')\r\n",
    "plt.legend()\r\n",
    "plt.xlabel('epoch')\r\n",
    "plt.ylabel('loss')\r\n",
    "plt.show()"
   ],
   "outputs": [
    {
     "output_type": "stream",
     "name": "stdout",
     "text": [
      "18\n",
      "18\n"
     ]
    },
    {
     "output_type": "display_data",
     "data": {
      "text/plain": [
       "<Figure size 432x288 with 1 Axes>"
      ],
      "image/png": "[encoded data removed]"
     },
     "metadata": {
      "needs_background": "light"
     }
    }
   ],
   "metadata": {}
  },
  {
   "cell_type": "markdown",
   "source": [
    "### 8. Custom function to make predictions using logistic regression model"
   ],
   "metadata": {}
  },
  {
   "cell_type": "code",
   "execution_count": 25,
   "source": [
    "def predict(w,b, X):\r\n",
    "    predictions = [ 1 if custom_sigmoid(np.dot(w,X[i])+b) > 0.5 else 0  for i in range(len(X)) ]\r\n",
    "    return np.array(predictions)"
   ],
   "outputs": [],
   "metadata": {}
  },
  {
   "cell_type": "markdown",
   "source": [
    "### Grader Function - 5"
   ],
   "metadata": {}
  },
  {
   "cell_type": "code",
   "execution_count": 26,
   "source": [
    "def grader_predict():\r\n",
    "  ''' grader to check the test accuracy'''\r\n",
    "  w,b,_,_ = custom_train(train_vectors_stand, train_category.values, 0.0001,0.0001,0.001)\r\n",
    "  test_preds = predict(w,b,test_vectors_stand)\r\n",
    "  test_accuracy = (np.sum(test_category==test_preds)/len(test_preds))*100\r\n",
    "  if(test_accuracy>=90):\r\n",
    "    print(\"Success!\")\r\n",
    "  else:\r\n",
    "    print(\"Failed! \\n Test accuracy = \", test_accuracy)\r\n",
    "  return\r\n",
    "  \r\n",
    "grader_predict()"
   ],
   "outputs": [
    {
     "output_type": "stream",
     "name": "stdout",
     "text": [
      "Success!\n"
     ]
    }
   ],
   "metadata": {}
  },
  {
   "cell_type": "code",
   "execution_count": null,
   "source": [],
   "outputs": [],
   "metadata": {}
  }
 ],
 "metadata": {
  "interpreter": {
   "hash": "adb4ca985ed9a3cb7f38b00661ba9f6c8f4ea72e7212f13ee19c80eee02589bd"
  },
  "kernelspec": {
   "name": "python3",
   "display_name": "Python 3.8.5 64-bit ('base': conda)"
  },
  "language_info": {
   "codemirror_mode": {
    "name": "ipython",
    "version": 3
   },
   "file_extension": ".py",
   "mimetype": "text/x-python",
   "name": "python",
   "nbconvert_exporter": "python",
   "pygments_lexer": "ipython3",
   "version": "3.8.5"
  },
  "orig_nbformat": 4
 },
 "nbformat": 4,
 "nbformat_minor": 2
}