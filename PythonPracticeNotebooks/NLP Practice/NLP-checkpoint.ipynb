{
 "cells": [
  {
   "cell_type": "code",
   "execution_count": 5,
   "source": [
    "import requests\r\n",
    "from bs4 import BeautifulSoup\r\n",
    "import pandas as pd\r\n",
    "import numpy as np\r\n",
    "import matplotlib.pyplot as plt\r\n",
    "import seaborn as sns\r\n",
    "import os\r\n",
    "\r\n",
    "#%matplotlib inline"
   ],
   "outputs": [],
   "metadata": {}
  },
  {
   "cell_type": "code",
   "execution_count": 6,
   "source": [
    "seed_urls = ['https://inshorts.com/en/read/sports',\r\n",
    "             'https://inshorts.com/en/read/technology',\r\n",
    "             'https://inshorts.com/en/read/world']\r\n",
    "\r\n",
    "def build_dataset(seed_urls):\r\n",
    "    news_data = []\r\n",
    "    for url in seed_urls:\r\n",
    "        news_category = url.split('/')[-1]\r\n",
    "        data = requests.get(url)\r\n",
    "        soup = BeautifulSoup(data.content, 'html.parser')\r\n",
    "        news_articles = [{\r\n",
    "            'news_headline' : headline.find('span', attrs={\"itemprop\" : \"headline\"}).string,\r\n",
    "            'news_article'  : article.find('div', attrs={\"itemprop\" : \"articleBody\"}).string,\r\n",
    "            'news_category' : news_category} \r\n",
    "            \r\n",
    "            for headline, article in \r\n",
    "            zip(soup.find_all('div', \r\n",
    "                              class_=[\"news-card-title news-right-box\"]),\r\n",
    "                soup.find_all('div', \r\n",
    "                              class_=[\"news-card-content news-right-box\"]))]\r\n",
    "        \r\n",
    "        news_data.extend(news_articles)\r\n",
    "        \r\n",
    "    df = pd.DataFrame(news_data)\r\n",
    "    df = df[['news_headline', 'news_article', 'news_category']]\r\n",
    "    return df\r\n",
    "    \r\n",
    "    "
   ],
   "outputs": [],
   "metadata": {}
  },
  {
   "cell_type": "code",
   "execution_count": 7,
   "source": [
    "news_df = build_dataset(seed_urls)\r\n",
    "news_df.head(10)\r\n"
   ],
   "outputs": [
    {
     "output_type": "execute_result",
     "data": {
      "text/plain": [
       "                                       news_headline  \\\n",
       "0  What changes have RCB made to their squad ahea...   \n",
       "1  Giant cut-out of Siraj depicting his 'finger o...   \n",
       "2  Pak fan's viral angry reaction meme features i...   \n",
       "3  Referee pulls gun on red-carded footballer in ...   \n",
       "4  Kohli told me in 2015 he wants India to be the...   \n",
       "5  Whole world would've been up in arms if BCCI s...   \n",
       "6  Buttler, wife Louise expecting their second ch...   \n",
       "7  It was mental torture for me to see myself sit...   \n",
       "8  Which prominent players will miss the UAE leg ...   \n",
       "9  Why didn't Silverwood intervene: Vaughan on Ro...   \n",
       "\n",
       "                                        news_article news_category  \n",
       "0  Ahead of the resumption of IPL 2021, Royal Cha...        sports  \n",
       "1  Giant garlanded cut-out of pacer Mohammed Sira...        sports  \n",
       "2  The viral angry reaction meme of Pakistani cri...        sports  \n",
       "3  A video surfaced online showing a referee pull...        sports  \n",
       "4  Ex-South Africa pacer Allan Donald revealed th...        sports  \n",
       "5  After England cricketers Moeen Ali and Craig O...        sports  \n",
       "6  England and Rajasthan Royals wicketkeeper-bats...        sports  \n",
       "7  India's 2012 Under-19 World Cup-winning captai...        sports  \n",
       "8  KKR pacer Pat Cummins pulled out of UAE leg of...        sports  \n",
       "9  Former England captain Michael Vaughan has sai...        sports  "
      ],
      "text/html": [
       "<div>\n",
       "<style scoped>\n",
       "    .dataframe tbody tr th:only-of-type {\n",
       "        vertical-align: middle;\n",
       "    }\n",
       "\n",
       "    .dataframe tbody tr th {\n",
       "        vertical-align: top;\n",
       "    }\n",
       "\n",
       "    .dataframe thead th {\n",
       "        text-align: right;\n",
       "    }\n",
       "</style>\n",
       "<table border=\"1\" class=\"dataframe\">\n",
       "  <thead>\n",
       "    <tr style=\"text-align: right;\">\n",
       "      <th></th>\n",
       "      <th>news_headline</th>\n",
       "      <th>news_article</th>\n",
       "      <th>news_category</th>\n",
       "    </tr>\n",
       "  </thead>\n",
       "  <tbody>\n",
       "    <tr>\n",
       "      <th>0</th>\n",
       "      <td>What changes have RCB made to their squad ahea...</td>\n",
       "      <td>Ahead of the resumption of IPL 2021, Royal Cha...</td>\n",
       "      <td>sports</td>\n",
       "    </tr>\n",
       "    <tr>\n",
       "      <th>1</th>\n",
       "      <td>Giant cut-out of Siraj depicting his 'finger o...</td>\n",
       "      <td>Giant garlanded cut-out of pacer Mohammed Sira...</td>\n",
       "      <td>sports</td>\n",
       "    </tr>\n",
       "    <tr>\n",
       "      <th>2</th>\n",
       "      <td>Pak fan's viral angry reaction meme features i...</td>\n",
       "      <td>The viral angry reaction meme of Pakistani cri...</td>\n",
       "      <td>sports</td>\n",
       "    </tr>\n",
       "    <tr>\n",
       "      <th>3</th>\n",
       "      <td>Referee pulls gun on red-carded footballer in ...</td>\n",
       "      <td>A video surfaced online showing a referee pull...</td>\n",
       "      <td>sports</td>\n",
       "    </tr>\n",
       "    <tr>\n",
       "      <th>4</th>\n",
       "      <td>Kohli told me in 2015 he wants India to be the...</td>\n",
       "      <td>Ex-South Africa pacer Allan Donald revealed th...</td>\n",
       "      <td>sports</td>\n",
       "    </tr>\n",
       "    <tr>\n",
       "      <th>5</th>\n",
       "      <td>Whole world would've been up in arms if BCCI s...</td>\n",
       "      <td>After England cricketers Moeen Ali and Craig O...</td>\n",
       "      <td>sports</td>\n",
       "    </tr>\n",
       "    <tr>\n",
       "      <th>6</th>\n",
       "      <td>Buttler, wife Louise expecting their second ch...</td>\n",
       "      <td>England and Rajasthan Royals wicketkeeper-bats...</td>\n",
       "      <td>sports</td>\n",
       "    </tr>\n",
       "    <tr>\n",
       "      <th>7</th>\n",
       "      <td>It was mental torture for me to see myself sit...</td>\n",
       "      <td>India's 2012 Under-19 World Cup-winning captai...</td>\n",
       "      <td>sports</td>\n",
       "    </tr>\n",
       "    <tr>\n",
       "      <th>8</th>\n",
       "      <td>Which prominent players will miss the UAE leg ...</td>\n",
       "      <td>KKR pacer Pat Cummins pulled out of UAE leg of...</td>\n",
       "      <td>sports</td>\n",
       "    </tr>\n",
       "    <tr>\n",
       "      <th>9</th>\n",
       "      <td>Why didn't Silverwood intervene: Vaughan on Ro...</td>\n",
       "      <td>Former England captain Michael Vaughan has sai...</td>\n",
       "      <td>sports</td>\n",
       "    </tr>\n",
       "  </tbody>\n",
       "</table>\n",
       "</div>"
      ]
     },
     "metadata": {},
     "execution_count": 7
    }
   ],
   "metadata": {}
  },
  {
   "cell_type": "code",
   "execution_count": 8,
   "source": [
    "news_df.news_category.value_counts( )"
   ],
   "outputs": [
    {
     "output_type": "execute_result",
     "data": {
      "text/plain": [
       "technology    25\n",
       "sports        25\n",
       "world         25\n",
       "Name: news_category, dtype: int64"
      ]
     },
     "metadata": {},
     "execution_count": 8
    }
   ],
   "metadata": {}
  },
  {
   "cell_type": "code",
   "execution_count": 4,
   "source": [
    "import spacy\r\n",
    "import pandas as pd\r\n",
    "import numpy as np\r\n",
    "import nltk\r\n",
    "from nltk.corpus import stopwords\r\n",
    "from nltk.tokenize.toktok import ToktokTokenizer\r\n",
    "import re\r\n",
    "from bs4 import BeautifulSoup\r\n",
    "from contractions import contractions_dict\r\n",
    "import unicodedata\r\n",
    "\r\n",
    "nlp =  spacy.load('en_core_web_md') #spacy.load('en_core_web_sm', parse=True, tag=True, entity=True )\r\n",
    "tokenizer = ToktokTokenizer()\r\n",
    "stopword_list = stopwords.words('english')\r\n",
    "stopword_list.remove('no')\r\n",
    "stopword_list.remove('not')\r\n"
   ],
   "outputs": [],
   "metadata": {}
  },
  {
   "cell_type": "code",
   "execution_count": 9,
   "source": [
    "def strip_html_tags(text):\r\n",
    "    strip = BeautifulSoup(text, \"html.parser\")\r\n",
    "    stripped_text = strip.get_text()\r\n",
    "    return stripped_text\r\n",
    "\r\n",
    "strip_html_tags('<html><h2>Some important text</h2></html>')\r\n",
    "    "
   ],
   "outputs": [
    {
     "output_type": "execute_result",
     "data": {
      "text/plain": [
       "'Some important text'"
      ]
     },
     "metadata": {},
     "execution_count": 9
    }
   ],
   "metadata": {}
  },
  {
   "cell_type": "code",
   "execution_count": 10,
   "source": [
    "def remove_accented_chars(text):\r\n",
    "    text = unicodedata.normalize('NFKD', text).encode('ascii', 'ignore').decode('utf-8', 'ignore')\r\n",
    "    return text\r\n",
    "\r\n",
    "remove_accented_chars('Sómě Áccěntěd těxt')"
   ],
   "outputs": [
    {
     "output_type": "execute_result",
     "data": {
      "text/plain": [
       "'Some Accented text'"
      ]
     },
     "metadata": {},
     "execution_count": 10
    }
   ],
   "metadata": {}
  },
  {
   "cell_type": "code",
   "execution_count": 11,
   "source": [
    "def expand_contractions(text, contraction_mapping=contractions_dict):\r\n",
    "    \r\n",
    "    contractions_pattern = re.compile('({})'.format('|'.join(contraction_mapping.keys())), \r\n",
    "                                      flags=re.IGNORECASE|re.DOTALL)\r\n",
    "    def expand_match(contraction):\r\n",
    "        match = contraction.group(0)\r\n",
    "        first_char = match[0]\r\n",
    "        expanded_contraction = contraction_mapping.get(match)\\\r\n",
    "                                if contraction_mapping.get(match)\\\r\n",
    "                                else contraction_mapping.get(match.lower())                       \r\n",
    "        expanded_contraction = first_char+expanded_contraction[1:]\r\n",
    "        return expanded_contraction\r\n",
    "        \r\n",
    "    expanded_text = contractions_pattern.sub(expand_match, text)\r\n",
    "    expanded_text = re.sub(\"'\", \"\", expanded_text)\r\n",
    "    return expanded_text\r\n",
    "\r\n",
    "expand_contractions(\"Y'all can't expand contractions I'd think\")"
   ],
   "outputs": [
    {
     "output_type": "execute_result",
     "data": {
      "text/plain": [
       "'You all cannot expand contractions I would think'"
      ]
     },
     "metadata": {},
     "execution_count": 11
    }
   ],
   "metadata": {}
  },
  {
   "cell_type": "code",
   "execution_count": 12,
   "source": [
    "def remove_special_characters(text, remove_digits=False):\r\n",
    "    pattern = r'[^a-zA-z0-9\\s]' if not remove_digits else r'[^a-zA-z\\s]'\r\n",
    "    text = re.sub(pattern, '', text)\r\n",
    "    return text\r\n",
    "remove_special_characters('Well I think that was fun ? What do you think #123@??', True)"
   ],
   "outputs": [
    {
     "output_type": "execute_result",
     "data": {
      "text/plain": [
       "'Well I think that was fun  What do you think '"
      ]
     },
     "metadata": {},
     "execution_count": 12
    }
   ],
   "metadata": {}
  },
  {
   "cell_type": "code",
   "execution_count": 13,
   "source": [
    "def lemmatize_text(text):\r\n",
    "    text = nlp(text)\r\n",
    "    text = ' '.join([word.lemma_ if word.lemma_ != '-PRON-' else word.text for word in text])\r\n",
    "    return text\r\n",
    "\r\n",
    "lemmatize_text('My system keeps crashing! his crashed yesterday, ours crashes daily')"
   ],
   "outputs": [
    {
     "output_type": "execute_result",
     "data": {
      "text/plain": [
       "'my system keep crash ! his crashed yesterday , ours crash daily'"
      ]
     },
     "metadata": {},
     "execution_count": 13
    }
   ],
   "metadata": {}
  },
  {
   "cell_type": "code",
   "execution_count": 14,
   "source": [
    "def simple_stemmer(text):\r\n",
    "    ps = nltk.porter.PorterStemmer()\r\n",
    "    text = ' '.join([ps.stem(word) for word in text.split()])\r\n",
    "    return text\r\n",
    "\r\n",
    "simple_stemmer(\"My system keeps crashing his crashed yesterday, ours crashes daily\")"
   ],
   "outputs": [
    {
     "output_type": "execute_result",
     "data": {
      "text/plain": [
       "'My system keep crash hi crash yesterday, our crash daili'"
      ]
     },
     "metadata": {},
     "execution_count": 14
    }
   ],
   "metadata": {}
  },
  {
   "cell_type": "code",
   "execution_count": 15,
   "source": [
    "def remove_stopwords(text, is_lower_case=False):\r\n",
    "    tokens = tokenizer.tokenize(text)\r\n",
    "    tokens = [token.strip() for token in tokens]\r\n",
    "    if is_lower_case:\r\n",
    "        filtered_tokens = [token for token in tokens if token not in stopword_list]\r\n",
    "    else:\r\n",
    "        filtered_tokens = [token for token in tokens if token.lower() not in stopword_list]\r\n",
    "    filtered_tokens = ' '.join(filtered_tokens)\r\n",
    "    return filtered_tokens\r\n",
    "\r\n",
    "remove_stopwords(\"The, and, if are stopwords, computer is not\")\r\n",
    "            "
   ],
   "outputs": [
    {
     "output_type": "execute_result",
     "data": {
      "text/plain": [
       "', , stopwords , computer not'"
      ]
     },
     "metadata": {},
     "execution_count": 15
    }
   ],
   "metadata": {}
  },
  {
   "cell_type": "code",
   "execution_count": 34,
   "source": [
    "def normalize_corpus(corpus, html_stripping=True, contraction_expansion=True,\r\n",
    "                     accented_char_removal=True, text_lower_case=True, \r\n",
    "                     text_lemmatization=True, special_char_removal=True, \r\n",
    "                     stopword_removal=True, remove_digits=True):\r\n",
    "    normalized_corpus = []\r\n",
    "    for doc in corpus:\r\n",
    "        if html_stripping:\r\n",
    "            doc = strip_html_tags(doc)\r\n",
    "        if accented_char_removal:\r\n",
    "            doc = remove_accented_chars(doc)\r\n",
    "        if contraction_expansion:\r\n",
    "            doc = expand_contractions(doc)\r\n",
    "        if text_lower_case:\r\n",
    "            doc = doc.lower()\r\n",
    "        doc = re.sub(r'[\\r|\\n|\\r\\n]+', ' ', doc)\r\n",
    "        if text_lemmatization:\r\n",
    "            doc = lemmatize_text(doc)\r\n",
    "        if special_char_removal:\r\n",
    "            special_char_pattern = re.compile(r'([{.(-)!}])')\r\n",
    "            doc = special_char_pattern.sub(\" \\\\1\", doc)\r\n",
    "            doc = remove_special_characters(doc, remove_digits=remove_digits)\r\n",
    "        doc = re.sub(' +', ' ', doc)\r\n",
    "        if stopword_removal:\r\n",
    "            doc = remove_stopwords(doc, text_lower_case)\r\n",
    "        normalized_corpus.append(doc)\r\n",
    "        \r\n",
    "    return normalized_corpus"
   ],
   "outputs": [],
   "metadata": {}
  },
  {
   "cell_type": "code",
   "execution_count": 35,
   "source": [
    "news_df['full_text'] = news_df[\"news_headline\"].map(str)+ '. ' + news_df[\"news_article\"]"
   ],
   "outputs": [],
   "metadata": {}
  },
  {
   "cell_type": "code",
   "execution_count": 36,
   "source": [
    "news_df.full_text"
   ],
   "outputs": [
    {
     "output_type": "execute_result",
     "data": {
      "text/plain": [
       "0     What changes have RCB made to their squad ahea...\n",
       "1     Giant cut-out of Siraj depicting his 'finger o...\n",
       "2     Pak fan's viral angry reaction meme features i...\n",
       "3     Referee pulls gun on red-carded footballer in ...\n",
       "4     Kohli told me in 2015 he wants India to be the...\n",
       "                            ...                        \n",
       "70    Greece erects fence on border to deter potenti...\n",
       "71    UK will work with Taliban if necessary: PM Bor...\n",
       "72    Severely punish culprits: China to Pak after a...\n",
       "73    Suspected militants kill 17 in attack on villa...\n",
       "74    Taliban co-founder Baradar arrives in Kabul fo...\n",
       "Name: full_text, Length: 75, dtype: object"
      ]
     },
     "metadata": {},
     "execution_count": 36
    }
   ],
   "metadata": {}
  },
  {
   "cell_type": "code",
   "execution_count": 37,
   "source": [
    "news_df['clean_text'] = normalize_corpus(contraction_expansion=False, corpus=news_df['full_text'])\r\n",
    "norm_corpus = list(news_df['clean_text'])\r\n",
    "news_df.iloc[1][['full_text', 'clean_text']].to_dict()"
   ],
   "outputs": [
    {
     "output_type": "execute_result",
     "data": {
      "text/plain": [
       "{'full_text': \"Giant cut-out of Siraj depicting his 'finger on lips' celebration erected in Hyd. Giant garlanded cut-out of pacer Mohammed Siraj depicting his 'finger on the lips' celebration has been erected in Hyderabad.This comes after Siraj picked a four-wicket haul in each innings at Lord's Test against England, in which the Team India won by 151 runs to take a 1-0 lead in the five-Test series.\",\n",
       " 'clean_text': 'giant cut siraj depict finger lip celebration erect hyd giant garlanded cut pacer mohammed siraj depict finger lip celebration erect hyderabad come siraj pick four wicket haul innings lord test england team india win run take lead five test series'}"
      ]
     },
     "metadata": {},
     "execution_count": 37
    }
   ],
   "metadata": {}
  },
  {
   "cell_type": "code",
   "execution_count": 38,
   "source": [
    "news_df.to_csv('news.csv', index=False, encoding='utf-8')"
   ],
   "outputs": [],
   "metadata": {}
  },
  {
   "cell_type": "code",
   "execution_count": 39,
   "source": [
    "news_df = pd.read_csv('news.csv')"
   ],
   "outputs": [],
   "metadata": {}
  },
  {
   "cell_type": "code",
   "execution_count": 41,
   "source": [
    "corpus = normalize_corpus(news_df['full_text'], text_lemmatization=False, special_char_removal=False, text_lower_case=False, contraction_expansion=False)\r\n",
    "\r\n",
    "sentence = str(news_df.iloc[1].news_headline)\r\n",
    "\r\n",
    "sentence_nlp = nlp(sentence)"
   ],
   "outputs": [],
   "metadata": {}
  },
  {
   "cell_type": "code",
   "execution_count": 42,
   "source": [
    "spacy_pos_tagged = [(word, word.tag_, word.pos_) for word in sentence_nlp]\r\n",
    "pd.DataFrame(spacy_pos_tagged, columns=['Word', 'POS Tag', 'Tag Type'])"
   ],
   "outputs": [
    {
     "output_type": "execute_result",
     "data": {
      "text/plain": [
       "           Word POS Tag Tag Type\n",
       "0         Giant      JJ      ADJ\n",
       "1           cut      NN     NOUN\n",
       "2             -    HYPH    PUNCT\n",
       "3           out      NN     NOUN\n",
       "4            of      IN      ADP\n",
       "5         Siraj     NNP    PROPN\n",
       "6     depicting     VBG     VERB\n",
       "7           his    PRP$     PRON\n",
       "8             '      ``    PUNCT\n",
       "9        finger      NN     NOUN\n",
       "10           on      IN      ADP\n",
       "11         lips     NNS     NOUN\n",
       "12            '     POS     PART\n",
       "13  celebration      NN     NOUN\n",
       "14      erected     VBN     VERB\n",
       "15           in      IN      ADP\n",
       "16          Hyd     NNP    PROPN"
      ],
      "text/html": [
       "<div>\n",
       "<style scoped>\n",
       "    .dataframe tbody tr th:only-of-type {\n",
       "        vertical-align: middle;\n",
       "    }\n",
       "\n",
       "    .dataframe tbody tr th {\n",
       "        vertical-align: top;\n",
       "    }\n",
       "\n",
       "    .dataframe thead th {\n",
       "        text-align: right;\n",
       "    }\n",
       "</style>\n",
       "<table border=\"1\" class=\"dataframe\">\n",
       "  <thead>\n",
       "    <tr style=\"text-align: right;\">\n",
       "      <th></th>\n",
       "      <th>Word</th>\n",
       "      <th>POS Tag</th>\n",
       "      <th>Tag Type</th>\n",
       "    </tr>\n",
       "  </thead>\n",
       "  <tbody>\n",
       "    <tr>\n",
       "      <th>0</th>\n",
       "      <td>Giant</td>\n",
       "      <td>JJ</td>\n",
       "      <td>ADJ</td>\n",
       "    </tr>\n",
       "    <tr>\n",
       "      <th>1</th>\n",
       "      <td>cut</td>\n",
       "      <td>NN</td>\n",
       "      <td>NOUN</td>\n",
       "    </tr>\n",
       "    <tr>\n",
       "      <th>2</th>\n",
       "      <td>-</td>\n",
       "      <td>HYPH</td>\n",
       "      <td>PUNCT</td>\n",
       "    </tr>\n",
       "    <tr>\n",
       "      <th>3</th>\n",
       "      <td>out</td>\n",
       "      <td>NN</td>\n",
       "      <td>NOUN</td>\n",
       "    </tr>\n",
       "    <tr>\n",
       "      <th>4</th>\n",
       "      <td>of</td>\n",
       "      <td>IN</td>\n",
       "      <td>ADP</td>\n",
       "    </tr>\n",
       "    <tr>\n",
       "      <th>5</th>\n",
       "      <td>Siraj</td>\n",
       "      <td>NNP</td>\n",
       "      <td>PROPN</td>\n",
       "    </tr>\n",
       "    <tr>\n",
       "      <th>6</th>\n",
       "      <td>depicting</td>\n",
       "      <td>VBG</td>\n",
       "      <td>VERB</td>\n",
       "    </tr>\n",
       "    <tr>\n",
       "      <th>7</th>\n",
       "      <td>his</td>\n",
       "      <td>PRP$</td>\n",
       "      <td>PRON</td>\n",
       "    </tr>\n",
       "    <tr>\n",
       "      <th>8</th>\n",
       "      <td>'</td>\n",
       "      <td>``</td>\n",
       "      <td>PUNCT</td>\n",
       "    </tr>\n",
       "    <tr>\n",
       "      <th>9</th>\n",
       "      <td>finger</td>\n",
       "      <td>NN</td>\n",
       "      <td>NOUN</td>\n",
       "    </tr>\n",
       "    <tr>\n",
       "      <th>10</th>\n",
       "      <td>on</td>\n",
       "      <td>IN</td>\n",
       "      <td>ADP</td>\n",
       "    </tr>\n",
       "    <tr>\n",
       "      <th>11</th>\n",
       "      <td>lips</td>\n",
       "      <td>NNS</td>\n",
       "      <td>NOUN</td>\n",
       "    </tr>\n",
       "    <tr>\n",
       "      <th>12</th>\n",
       "      <td>'</td>\n",
       "      <td>POS</td>\n",
       "      <td>PART</td>\n",
       "    </tr>\n",
       "    <tr>\n",
       "      <th>13</th>\n",
       "      <td>celebration</td>\n",
       "      <td>NN</td>\n",
       "      <td>NOUN</td>\n",
       "    </tr>\n",
       "    <tr>\n",
       "      <th>14</th>\n",
       "      <td>erected</td>\n",
       "      <td>VBN</td>\n",
       "      <td>VERB</td>\n",
       "    </tr>\n",
       "    <tr>\n",
       "      <th>15</th>\n",
       "      <td>in</td>\n",
       "      <td>IN</td>\n",
       "      <td>ADP</td>\n",
       "    </tr>\n",
       "    <tr>\n",
       "      <th>16</th>\n",
       "      <td>Hyd</td>\n",
       "      <td>NNP</td>\n",
       "      <td>PROPN</td>\n",
       "    </tr>\n",
       "  </tbody>\n",
       "</table>\n",
       "</div>"
      ]
     },
     "metadata": {},
     "execution_count": 42
    }
   ],
   "metadata": {}
  },
  {
   "cell_type": "code",
   "execution_count": 43,
   "source": [
    "nltk_pos_tagged = nltk.pos_tag(sentence.split())\r\n",
    "pd.DataFrame(nltk_pos_tagged, columns=['Word', 'POS Tag'])"
   ],
   "outputs": [
    {
     "output_type": "execute_result",
     "data": {
      "text/plain": [
       "           Word POS Tag\n",
       "0         Giant      JJ\n",
       "1       cut-out      NN\n",
       "2            of      IN\n",
       "3         Siraj     NNP\n",
       "4     depicting     VBG\n",
       "5           his    PRP$\n",
       "6       'finger      NN\n",
       "7            on      IN\n",
       "8         lips'      JJ\n",
       "9   celebration      NN\n",
       "10      erected     VBN\n",
       "11           in      IN\n",
       "12          Hyd     NNP"
      ],
      "text/html": [
       "<div>\n",
       "<style scoped>\n",
       "    .dataframe tbody tr th:only-of-type {\n",
       "        vertical-align: middle;\n",
       "    }\n",
       "\n",
       "    .dataframe tbody tr th {\n",
       "        vertical-align: top;\n",
       "    }\n",
       "\n",
       "    .dataframe thead th {\n",
       "        text-align: right;\n",
       "    }\n",
       "</style>\n",
       "<table border=\"1\" class=\"dataframe\">\n",
       "  <thead>\n",
       "    <tr style=\"text-align: right;\">\n",
       "      <th></th>\n",
       "      <th>Word</th>\n",
       "      <th>POS Tag</th>\n",
       "    </tr>\n",
       "  </thead>\n",
       "  <tbody>\n",
       "    <tr>\n",
       "      <th>0</th>\n",
       "      <td>Giant</td>\n",
       "      <td>JJ</td>\n",
       "    </tr>\n",
       "    <tr>\n",
       "      <th>1</th>\n",
       "      <td>cut-out</td>\n",
       "      <td>NN</td>\n",
       "    </tr>\n",
       "    <tr>\n",
       "      <th>2</th>\n",
       "      <td>of</td>\n",
       "      <td>IN</td>\n",
       "    </tr>\n",
       "    <tr>\n",
       "      <th>3</th>\n",
       "      <td>Siraj</td>\n",
       "      <td>NNP</td>\n",
       "    </tr>\n",
       "    <tr>\n",
       "      <th>4</th>\n",
       "      <td>depicting</td>\n",
       "      <td>VBG</td>\n",
       "    </tr>\n",
       "    <tr>\n",
       "      <th>5</th>\n",
       "      <td>his</td>\n",
       "      <td>PRP$</td>\n",
       "    </tr>\n",
       "    <tr>\n",
       "      <th>6</th>\n",
       "      <td>'finger</td>\n",
       "      <td>NN</td>\n",
       "    </tr>\n",
       "    <tr>\n",
       "      <th>7</th>\n",
       "      <td>on</td>\n",
       "      <td>IN</td>\n",
       "    </tr>\n",
       "    <tr>\n",
       "      <th>8</th>\n",
       "      <td>lips'</td>\n",
       "      <td>JJ</td>\n",
       "    </tr>\n",
       "    <tr>\n",
       "      <th>9</th>\n",
       "      <td>celebration</td>\n",
       "      <td>NN</td>\n",
       "    </tr>\n",
       "    <tr>\n",
       "      <th>10</th>\n",
       "      <td>erected</td>\n",
       "      <td>VBN</td>\n",
       "    </tr>\n",
       "    <tr>\n",
       "      <th>11</th>\n",
       "      <td>in</td>\n",
       "      <td>IN</td>\n",
       "    </tr>\n",
       "    <tr>\n",
       "      <th>12</th>\n",
       "      <td>Hyd</td>\n",
       "      <td>NNP</td>\n",
       "    </tr>\n",
       "  </tbody>\n",
       "</table>\n",
       "</div>"
      ]
     },
     "metadata": {},
     "execution_count": 43
    }
   ],
   "metadata": {}
  },
  {
   "cell_type": "code",
   "execution_count": 44,
   "source": [
    "from nltk.corpus import conll2000\r\n",
    "data = conll2000.chunked_sents()\r\n",
    "train_data = data[:10900]\r\n",
    "test_data = data[10900:]\r\n",
    "print(len(train_data), len(test_data))\r\n",
    "print(train_data[1])"
   ],
   "outputs": [
    {
     "output_type": "stream",
     "name": "stdout",
     "text": [
      "10900 48\n",
      "(S\n",
      "  Chancellor/NNP\n",
      "  (PP of/IN)\n",
      "  (NP the/DT Exchequer/NNP)\n",
      "  (NP Nigel/NNP Lawson/NNP)\n",
      "  (NP 's/POS restated/VBN commitment/NN)\n",
      "  (PP to/TO)\n",
      "  (NP a/DT firm/NN monetary/JJ policy/NN)\n",
      "  (VP has/VBZ helped/VBN to/TO prevent/VB)\n",
      "  (NP a/DT freefall/NN)\n",
      "  (PP in/IN)\n",
      "  (NP sterling/NN)\n",
      "  (PP over/IN)\n",
      "  (NP the/DT past/JJ week/NN)\n",
      "  ./.)\n"
     ]
    }
   ],
   "metadata": {}
  },
  {
   "cell_type": "code",
   "execution_count": 45,
   "source": [
    "from nltk.chunk.util import tree2conlltags, conlltags2tree\r\n",
    "\r\n",
    "wtc = tree2conlltags(train_data[1])\r\n",
    "wtc"
   ],
   "outputs": [
    {
     "output_type": "execute_result",
     "data": {
      "text/plain": [
       "[('Chancellor', 'NNP', 'O'),\n",
       " ('of', 'IN', 'B-PP'),\n",
       " ('the', 'DT', 'B-NP'),\n",
       " ('Exchequer', 'NNP', 'I-NP'),\n",
       " ('Nigel', 'NNP', 'B-NP'),\n",
       " ('Lawson', 'NNP', 'I-NP'),\n",
       " (\"'s\", 'POS', 'B-NP'),\n",
       " ('restated', 'VBN', 'I-NP'),\n",
       " ('commitment', 'NN', 'I-NP'),\n",
       " ('to', 'TO', 'B-PP'),\n",
       " ('a', 'DT', 'B-NP'),\n",
       " ('firm', 'NN', 'I-NP'),\n",
       " ('monetary', 'JJ', 'I-NP'),\n",
       " ('policy', 'NN', 'I-NP'),\n",
       " ('has', 'VBZ', 'B-VP'),\n",
       " ('helped', 'VBN', 'I-VP'),\n",
       " ('to', 'TO', 'I-VP'),\n",
       " ('prevent', 'VB', 'I-VP'),\n",
       " ('a', 'DT', 'B-NP'),\n",
       " ('freefall', 'NN', 'I-NP'),\n",
       " ('in', 'IN', 'B-PP'),\n",
       " ('sterling', 'NN', 'B-NP'),\n",
       " ('over', 'IN', 'B-PP'),\n",
       " ('the', 'DT', 'B-NP'),\n",
       " ('past', 'JJ', 'I-NP'),\n",
       " ('week', 'NN', 'I-NP'),\n",
       " ('.', '.', 'O')]"
      ]
     },
     "metadata": {},
     "execution_count": 45
    }
   ],
   "metadata": {}
  },
  {
   "cell_type": "code",
   "execution_count": 46,
   "source": [
    "tree = conlltags2tree(wtc)\r\n",
    "print(tree)"
   ],
   "outputs": [
    {
     "output_type": "stream",
     "name": "stdout",
     "text": [
      "(S\n",
      "  Chancellor/NNP\n",
      "  (PP of/IN)\n",
      "  (NP the/DT Exchequer/NNP)\n",
      "  (NP Nigel/NNP Lawson/NNP)\n",
      "  (NP 's/POS restated/VBN commitment/NN)\n",
      "  (PP to/TO)\n",
      "  (NP a/DT firm/NN monetary/JJ policy/NN)\n",
      "  (VP has/VBZ helped/VBN to/TO prevent/VB)\n",
      "  (NP a/DT freefall/NN)\n",
      "  (PP in/IN)\n",
      "  (NP sterling/NN)\n",
      "  (PP over/IN)\n",
      "  (NP the/DT past/JJ week/NN)\n",
      "  ./.)\n"
     ]
    }
   ],
   "metadata": {}
  },
  {
   "cell_type": "code",
   "execution_count": 47,
   "source": [
    "def conll_tag_chunks(chunk_sents):\r\n",
    "    tagged_sents = [tree2conlltags(tree) for tree in chunk_sents]\r\n",
    "    return [[(t,c) for (w, t, c) in sent] for sent in tagged_sents ]\r\n",
    "\r\n",
    "def combined_tagger(train_data, taggers, backoff=None):\r\n",
    "    for tagger in taggers:\r\n",
    "        backoff = tagger(train_data,backoff=backoff)\r\n",
    "    return backoff"
   ],
   "outputs": [],
   "metadata": {}
  },
  {
   "cell_type": "code",
   "execution_count": 48,
   "source": [
    "from nltk.tag import UnigramTagger, BigramTagger\r\n",
    "from nltk.chunk import ChunkParserI\r\n",
    "\r\n",
    "class NGramTagChunker(ChunkParserI):\r\n",
    "    def __init__(self, train_sentences,\r\n",
    "                        tagger_classes=[UnigramTagger, BigramTagger]):\r\n",
    "        train_sent_tags = conll_tag_chunks(train_sentences)\r\n",
    "        self.chunk_tagger = combined_tagger(train_sent_tags, taggers=tagger_classes)\r\n",
    "    \r\n",
    "    def parse(self, tagged_sentence):\r\n",
    "        if not tagged_sentence:\r\n",
    "            return None\r\n",
    "        pos_tags = [tag for word, tag in tagged_sentence]\r\n",
    "        chunk_tags = [chunk_tag for (pos_tag, chunk_tag) in self.chunk_tagger.tag(pos_tags) ]\r\n",
    "        wpc_tags = [(word, pos_tag, chunk_tag) for ((word, pos_tag), chunk_tag) in zip(tagged_sentence, chunk_tags)]\r\n",
    "        return conlltags2tree(wpc_tags)"
   ],
   "outputs": [],
   "metadata": {}
  },
  {
   "cell_type": "code",
   "execution_count": 49,
   "source": [
    "ntc = NGramTagChunker(train_data)\r\n",
    "print(ntc.evaluate(test_data))"
   ],
   "outputs": [
    {
     "output_type": "stream",
     "name": "stdout",
     "text": [
      "ChunkParse score:\n",
      "    IOB Accuracy:  90.0%%\n",
      "    Precision:     82.1%%\n",
      "    Recall:        86.3%%\n",
      "    F-Measure:     84.1%%\n"
     ]
    }
   ],
   "metadata": {}
  },
  {
   "cell_type": "code",
   "execution_count": 50,
   "source": [
    "chunk_tree = ntc.parse(nltk_pos_tagged)\r\n",
    "print(chunk_tree)"
   ],
   "outputs": [
    {
     "output_type": "stream",
     "name": "stdout",
     "text": [
      "(S\n",
      "  (NP Giant/JJ cut-out/NN)\n",
      "  (PP of/IN)\n",
      "  (NP Siraj/NNP depicting/VBG)\n",
      "  (NP his/PRP$ 'finger/NN)\n",
      "  (PP on/IN)\n",
      "  (NP lips'/JJ celebration/NN)\n",
      "  (VP erected/VBN)\n",
      "  (PP in/IN)\n",
      "  (NP Hyd/NNP))\n"
     ]
    }
   ],
   "metadata": {}
  },
  {
   "cell_type": "code",
   "execution_count": 53,
   "source": [
    "from IPython.display import display\r\n",
    "os.environ['PATH'] = os.environ['PATH']+\";C:\\\\Program Files\\\\gs\\\\gs9.54.0\\\\bin\\\\\"\r\n",
    "display(chunk_tree)"
   ],
   "outputs": [
    {
     "output_type": "display_data",
     "data": {
      "text/plain": [
       "Tree('S', [Tree('NP', [('Giant', 'JJ'), ('cut-out', 'NN')]), Tree('PP', [('of', 'IN')]), Tree('NP', [('Siraj', 'NNP'), ('depicting', 'VBG')]), Tree('NP', [('his', 'PRP$'), (\"'finger\", 'NN')]), Tree('PP', [('on', 'IN')]), Tree('NP', [(\"lips'\", 'JJ'), ('celebration', 'NN')]), Tree('VP', [('erected', 'VBN')]), Tree('PP', [('in', 'IN')]), Tree('NP', [('Hyd', 'NNP')])])"
      ],
      "image/png": "[encoded data removed]"
     },
     "metadata": {}
    }
   ],
   "metadata": {}
  },
  {
   "cell_type": "code",
   "execution_count": 58,
   "source": [
    "import os\r\n",
    "java_path = r'C:\\Program Files\\SapMachine\\JDK\\11\\bin\\java.exe'\r\n",
    "os.environ['JAVAHOME'] = java_path\r\n",
    "\r\n",
    "\r\n",
    "from nltk.parse.stanford import StanfordParser\r\n",
    "\r\n",
    "scp = StanfordParser(path_to_jar='C:/stanford-parser-full-2015-04-20/stanford-parser.jar',\r\n",
    "                     path_to_models_jar='C:/stanford-parser-full-2015-04-20/stanford-parser-3.5.2-models.jar')\r\n",
    "                   \r\n",
    "result = list(scp.raw_parse(sentence))\r\n",
    "print(result[0])\r\n"
   ],
   "outputs": [
    {
     "output_type": "stream",
     "name": "stderr",
     "text": [
      "<ipython-input-58-9832376a47f2>:8: DeprecationWarning: The StanfordParser will be deprecated\n",
      "Please use \u001b[91mnltk.parse.corenlp.CoreNLPParser\u001b[0m instead.\n",
      "  scp = StanfordParser(path_to_jar='C:/stanford-parser-full-2015-04-20/stanford-parser.jar',\n"
     ]
    },
    {
     "output_type": "stream",
     "name": "stdout",
     "text": [
      "(ROOT\n",
      "  (S\n",
      "    (NP\n",
      "      (NP (JJ Giant) (NN cut-out))\n",
      "      (PP\n",
      "        (IN of)\n",
      "        (NP\n",
      "          (NP (NNP Siraj))\n",
      "          (VP\n",
      "            (VBG depicting)\n",
      "            (NP\n",
      "              (NP (PRP$ his) (`` `) (NN finger))\n",
      "              (PP\n",
      "                (IN on)\n",
      "                (NP (NP (NNS lips) (POS ')) (NN celebration))))))))\n",
      "    (VP (VBD erected) (PP (IN in) (NP (NNP Hyd))))))\n"
     ]
    },
    {
     "output_type": "execute_result",
     "data": {
      "text/plain": [
       "\"\\n\\nfrom nltk.tag.stanford import CoreNLPPOSTagger, CoreNLPNERTagger\\nfrom nltk.parse.corenlp import CoreNLPParser\\n\\nstpos, stner = CoreNLPPOSTagger(), CoreNLPNERTagger()\\n\\nstpos.tag(sentence.split())\\nstner.tag(sentence.split())\\n\\nparser = CoreNLPParser(url='http://localhost:9000')\\n\\nnext(\\n    parser.raw_parse(sentence)).pretty_print() \\n\\n\""
      ]
     },
     "metadata": {},
     "execution_count": 58
    }
   ],
   "metadata": {}
  },
  {
   "cell_type": "code",
   "execution_count": null,
   "source": [],
   "outputs": [],
   "metadata": {}
  }
 ],
 "metadata": {
  "kernelspec": {
   "name": "python3",
   "display_name": "Python 3.8.5 64-bit ('base': conda)"
  },
  "language_info": {
   "codemirror_mode": {
    "name": "ipython",
    "version": 3
   },
   "file_extension": ".py",
   "mimetype": "text/x-python",
   "name": "python",
   "nbconvert_exporter": "python",
   "pygments_lexer": "ipython3",
   "version": "3.8.5"
  },
  "interpreter": {
   "hash": "adb4ca985ed9a3cb7f38b00661ba9f6c8f4ea72e7212f13ee19c80eee02589bd"
  }
 },
 "nbformat": 4,
 "nbformat_minor": 2
}